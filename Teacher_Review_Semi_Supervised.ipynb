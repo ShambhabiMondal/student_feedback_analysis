{
  "nbformat": 4,
  "nbformat_minor": 0,
  "metadata": {
    "colab": {
      "provenance": [],
      "authorship_tag": "ABX9TyP27mqVQYE1BE86rRCgtgcx"
    },
    "kernelspec": {
      "name": "python3",
      "display_name": "Python 3"
    },
    "language_info": {
      "name": "python"
    }
  },
  "cells": [
    {
      "cell_type": "code",
      "execution_count": null,
      "metadata": {
        "id": "AHb5p0__iklX"
      },
      "outputs": [],
      "source": [
        "from google.colab import drive\n",
        "drive.mount('/content/drive')"
      ]
    },
    {
      "cell_type": "code",
      "source": [
        "!unzip /content/drive/MyDrive/final_dataset_teacher.zip"
      ],
      "metadata": {
        "id": "xqD0fjqajRoP"
      },
      "execution_count": null,
      "outputs": []
    },
    {
      "cell_type": "code",
      "source": [
        "# Importing libraries and modules\n",
        "import numpy as np\n",
        "import pandas as pd\n",
        "import scipy\n",
        "from scipy.spatial.distance import pdist\n",
        "from scipy.cluster.hierarchy import linkage, cut_tree, set_link_color_palette, dendrogram\n",
        "from matplotlib import pyplot as plt\n",
        "from sklearn.cluster import AgglomerativeClustering\n",
        "from sklearn.model_selection import train_test_split\n",
        "from sklearn.semi_supervised import LabelSpreading, SelfTrainingClassifier\n",
        "from sklearn.svm import SVC\n",
        "from sklearn.metrics import f1_score"
      ],
      "metadata": {
        "id": "EUObBzBSjSYE"
      },
      "execution_count": 3,
      "outputs": []
    },
    {
      "cell_type": "code",
      "source": [
        "# Reading the first dataset and dropping irrelevant columns\n",
        "df = pd.read_csv(\"final_complete_teacher_dataset.csv\")\n",
        "df1 = df.drop(df.columns[[0, 1, 2, 13]], axis=1)\n",
        "\n",
        "X1 = df1.iloc[:, :-1].values\n",
        "y1 = df.iloc[:, -1].values"
      ],
      "metadata": {
        "id": "Hh5QJHsPaci9"
      },
      "execution_count": 4,
      "outputs": []
    },
    {
      "cell_type": "code",
      "source": [
        "# Reading the second dataset and dropping irrelevant columns\n",
        "d = pd.read_csv(\"final_dataset_teacher.csv\")\n",
        "df = d.drop(d.columns[[0, 1, 12]], axis=1)\n",
        "\n",
        "X = df[['q1', 'q2', 'q3', 'q4', 'q5', 'q6', 'q7', 'q8', 'q9', 'q10']].to_numpy()\n",
        "y = df.iloc[:, -1].values"
      ],
      "metadata": {
        "id": "s8p8mq33jU--"
      },
      "execution_count": 5,
      "outputs": []
    },
    {
      "cell_type": "code",
      "source": [
        "X_labeled, X_unlabeled, y_labeled, _ = train_test_split(X, y, test_size=0.6, stratify=y)"
      ],
      "metadata": {
        "id": "mfaMaiOeCeBM"
      },
      "execution_count": 23,
      "outputs": []
    },
    {
      "cell_type": "code",
      "source": [
        "# Creating the SVM classifier\n",
        "clf = SVC(kernel='linear', C=100)"
      ],
      "metadata": {
        "id": "mF-HlQ5oDLDr"
      },
      "execution_count": 24,
      "outputs": []
    },
    {
      "cell_type": "code",
      "source": [
        "self_model = SelfTrainingClassifier(clf)\n",
        "self_model.fit(X_labeled, y_labeled)"
      ],
      "metadata": {
        "id": "4PPEa-evWsWo"
      },
      "execution_count": null,
      "outputs": []
    },
    {
      "cell_type": "code",
      "source": [
        "# Predict categories for all teachers\n",
        "predicted_categories = self_model.predict(X)\n",
        "predicted_cats = self_model.predict(X1)"
      ],
      "metadata": {
        "id": "DOAZnFc8EpH3"
      },
      "execution_count": 26,
      "outputs": []
    },
    {
      "cell_type": "code",
      "source": [
        "# Fitting the SVM model to the entire second dataset only on the first two features\n",
        "self_model.fit(X[:,:2], y)"
      ],
      "metadata": {
        "id": "7ojMVzdFvr9U"
      },
      "execution_count": null,
      "outputs": []
    },
    {
      "cell_type": "code",
      "source": [
        "# Defining the maximum and minimum values of the first two features\n",
        "x_min, x_max = X[:, 0]. min() - 1, X[:, 0].max() + 1\n",
        "y_min, y_max = X[:, 0]. min() - 1, X[:, 1].max() + 1\n",
        "\n",
        "# Creating a meshgrid spanning the range of training data\n",
        "xx, yy = np.meshgrid(np.arange(x_min, x_max, .02),\n",
        "                     np.arange(y_min, y_max, .02))"
      ],
      "metadata": {
        "id": "ab71Cy0fwSjL"
      },
      "execution_count": 28,
      "outputs": []
    },
    {
      "cell_type": "code",
      "source": [
        "# Predicting the label for each point in the meshgrid\n",
        "Z = self_model.predict(np.c_[xx.ravel(), yy.ravel()])\n",
        "Z = Z.reshape(xx.shape)\n",
        "\n",
        "# Plotting decision boundary as a contour plot\n",
        "plt.contourf(xx, yy, Z, cmap=plt.cm.coolwarm, alpha=0.8)\n",
        "\n",
        "# Plotting the training data as scatter points\n",
        "scat=plt.scatter(X[:, 0], X[:, 1], c=predicted_categories)\n",
        "legend1=plt.legend(*scat.legend_elements(),\n",
        "                   loc=\"upper left\", title=\"Classification\")\n",
        "\n",
        "plt.xlabel('Feature1')\n",
        "plt.ylabel('Feature2')\n",
        "plt.xlim(xx.min(), xx.max())\n",
        "plt.ylim(yy.min(), yy.max())\n",
        "\n",
        "# Displaying the plot\n",
        "plt.show()"
      ],
      "metadata": {
        "colab": {
          "base_uri": "https://localhost:8080/",
          "height": 449
        },
        "id": "j6w2zF0WwcVa",
        "outputId": "6d3f3ed1-f72b-42a0-9714-6d835b19e30d"
      },
      "execution_count": 29,
      "outputs": [
        {
          "output_type": "display_data",
          "data": {
            "text/plain": [
              "<Figure size 640x480 with 1 Axes>"
            ],
            "image/png": "[encoded data removed]"
          },
          "metadata": {}
        }
      ]
    },
    {
      "cell_type": "code",
      "source": [
        "# Calculate F1-score\n",
        "f1 = f1_score(y1, predicted_cats, average='weighted')"
      ],
      "metadata": {
        "id": "6Ks3Dfe7lDTD"
      },
      "execution_count": 30,
      "outputs": []
    },
    {
      "cell_type": "code",
      "source": [
        "print(f\"F1-score: {f1}\")"
      ],
      "metadata": {
        "colab": {
          "base_uri": "https://localhost:8080/"
        },
        "id": "iPWjyDlElrmV",
        "outputId": "490ef494-6d2c-4108-9ccf-5f2f37fe4ac7"
      },
      "execution_count": 31,
      "outputs": [
        {
          "output_type": "stream",
          "name": "stdout",
          "text": [
            "F1-score: 0.947223523985926\n"
          ]
        }
      ]
    }
  ]
}