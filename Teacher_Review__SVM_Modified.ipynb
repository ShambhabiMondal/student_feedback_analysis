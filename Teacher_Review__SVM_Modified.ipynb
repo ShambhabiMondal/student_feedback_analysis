{
  "nbformat": 4,
  "nbformat_minor": 0,
  "metadata": {
    "colab": {
      "provenance": [],
      "gpuType": "T4",
      "authorship_tag": "ABX9TyNqipuO9uFCLhF48CrryNOO",
      "include_colab_link": true
    },
    "kernelspec": {
      "name": "python3",
      "display_name": "Python 3"
    },
    "language_info": {
      "name": "python"
    },
    "accelerator": "GPU"
  },
  "cells": [
    {
      "cell_type": "markdown",
      "metadata": {
        "id": "view-in-github",
        "colab_type": "text"
      },
      "source": [
        "<a href=\"https://colab.research.google.com/github/ShambhabiMondal/student_feedback_analysis/blob/main/Teacher_Review__SVM_Modified.ipynb\" target=\"_parent\"><img src=\"https://colab.research.google.com/assets/colab-badge.svg\" alt=\"Open In Colab\"/></a>"
      ]
    },
    {
      "cell_type": "code",
      "execution_count": 1,
      "metadata": {
        "colab": {
          "base_uri": "https://localhost:8080/"
        },
        "id": "jLxq4gu-maE-",
        "outputId": "828ed743-734d-4f57-a400-982193ac271d"
      },
      "outputs": [
        {
          "output_type": "stream",
          "name": "stdout",
          "text": [
            "Mounted at /content/drive\n"
          ]
        }
      ],
      "source": [
        "from google.colab import drive\n",
        "drive.mount('/content/drive')"
      ]
    },
    {
      "cell_type": "code",
      "source": [
        "!unzip /content/drive/MyDrive/teacher_review_dataset_new.zip"
      ],
      "metadata": {
        "colab": {
          "base_uri": "https://localhost:8080/"
        },
        "id": "A8hDkplxmb8R",
        "outputId": "68a434b8-0305-43a4-a984-07221829e497"
      },
      "execution_count": 2,
      "outputs": [
        {
          "output_type": "stream",
          "name": "stdout",
          "text": [
            "Archive:  /content/drive/MyDrive/teacher_review_dataset_new.zip\n",
            "  inflating: teacher_dataset_new.csv  \n",
            "  inflating: teacher_review_dataset.csv  \n"
          ]
        }
      ]
    },
    {
      "cell_type": "code",
      "source": [
        "# Importing libraries and modules\n",
        "import numpy as np\n",
        "import pandas as pd\n",
        "from sklearn.preprocessing import StandardScaler, OneHotEncoder\n",
        "from sklearn.model_selection import train_test_split\n",
        "from sklearn.svm import SVC\n",
        "from sklearn.metrics import accuracy_score, log_loss\n",
        "from matplotlib import pyplot as plt\n",
        "import seaborn as sns"
      ],
      "metadata": {
        "id": "Z-S7LtgwmfMt"
      },
      "execution_count": 3,
      "outputs": []
    },
    {
      "cell_type": "code",
      "source": [
        "# Validating user input\n",
        "def get_valid_input(prompt):\n",
        "    while True:\n",
        "        try:\n",
        "            value = int(input(prompt))\n",
        "        except ValueError:\n",
        "            print(\"Sorry, I didn't understand that.\")\n",
        "            continue\n",
        "\n",
        "        if value < 0:\n",
        "            print(\"Sorry, your response must not be negative.\")\n",
        "            continue\n",
        "        elif value == 0:\n",
        "            print(\"Sorry, your response must not be zero.\")\n",
        "            continue\n",
        "        elif value > 5:\n",
        "            print(\"Sorry, your response must not be greater than 5.\")\n",
        "            continue\n",
        "        else:\n",
        "            break\n",
        "    return value"
      ],
      "metadata": {
        "id": "x5cCdYkxmk8_"
      },
      "execution_count": 4,
      "outputs": []
    },
    {
      "cell_type": "code",
      "source": [
        "# Reading the first dataset and dropping irrelevant columns\n",
        "df = pd.read_csv(\"teacher_review_dataset.csv\")\n",
        "df1 = df.drop(df.columns[[0, 1, 2]], axis=1)\n",
        "\n",
        "X = df1.iloc[:, :-1].values\n",
        "y = df.iloc[:, -1].values"
      ],
      "metadata": {
        "id": "SKZSPJFbmqDj"
      },
      "execution_count": 5,
      "outputs": []
    },
    {
      "cell_type": "code",
      "source": [
        "# Reading the second dataset and dropping irrelevant columns\n",
        "d = pd.read_csv(\"teacher_dataset_new.csv\")\n",
        "d1 = d.drop(d.columns[[0, 1, 12]], axis=1)\n",
        "\n",
        "XX1 = d1[['q1', 'q2', 'q3', 'q4', 'q5', 'q6', 'q7', 'q8', 'q9', 'q10']].to_numpy()\n",
        "Y = d.iloc[:, -1].values"
      ],
      "metadata": {
        "id": "aYKz7EHxBvBC"
      },
      "execution_count": 6,
      "outputs": []
    },
    {
      "cell_type": "code",
      "source": [
        "# Splitting the first dataset into training and validation sets\n",
        "X_train, X_test, y_train, y_test = train_test_split(X, y, test_size=0.3, random_state=42)"
      ],
      "metadata": {
        "id": "TvruHkYQmrd7"
      },
      "execution_count": 7,
      "outputs": []
    },
    {
      "cell_type": "code",
      "source": [
        "# Creating the SVM classifier\n",
        "clf = SVC(kernel='linear', C=100)"
      ],
      "metadata": {
        "id": "k4xKdGinnMEd"
      },
      "execution_count": 8,
      "outputs": []
    },
    {
      "cell_type": "code",
      "source": [
        "# Fiiting the SVM model to the training data of the first dataset\n",
        "history = clf.fit(X_train, y_train)"
      ],
      "metadata": {
        "id": "ksMoKh8mnQ6P"
      },
      "execution_count": 9,
      "outputs": []
    },
    {
      "cell_type": "code",
      "source": [
        "# Predicting the labels for the test set\n",
        "y_pred = clf.predict(X_test)"
      ],
      "metadata": {
        "id": "VrFmrRVonWI2"
      },
      "execution_count": 10,
      "outputs": []
    },
    {
      "cell_type": "code",
      "source": [
        "# Evaluate the accuracy of the classifier\n",
        "accuracy = accuracy_score(y_test, y_pred)\n",
        "print(\"Accuracy:\", accuracy)"
      ],
      "metadata": {
        "id": "pEA9kSXKnXbR",
        "colab": {
          "base_uri": "https://localhost:8080/"
        },
        "outputId": "43a8acd7-c908-4ac3-8cab-812c809b4100"
      },
      "execution_count": 11,
      "outputs": [
        {
          "output_type": "stream",
          "name": "stdout",
          "text": [
            "Accuracy: 0.9888888888888889\n"
          ]
        }
      ]
    },
    {
      "cell_type": "code",
      "source": [
        "# Getting the ratings for the questions from the user\n",
        "l1 = []\n",
        "l2 = []\n",
        "print(\"Enter the rating scores for the faculty based on the following qustions, on a scale of 1 to 5\")\n",
        "print(\"Poor: 1 Fair: 2 Good: 3, Very Good: 4, Excellent: 5\")\n",
        "q1 = l1.append(get_valid_input(\"The faculty explained the objective of the course. Its relevance in regard to Industrial application, current development and research opportunities.   \"))\n",
        "q2 = l1.append(get_valid_input(\"The prerequisites, pertinence of the course with others and programme as a whole and the organization of the subject matter are explained.   \"))\n",
        "q3 = l1.append(get_valid_input(\"The teacher explained CO statements and its correlations with the PO's and PSO's.   \"))\n",
        "q4 = l1.append(get_valid_input(\"The teacher is enthusiastic and created interest in the subject.   \"))\n",
        "q5 = l1.append(get_valid_input(\"The teacher delivered the lecture lucidly.   \"))\n",
        "q6 = l1.append(get_valid_input(\"The teacher emphasized on numerical problem solving / mathematical formulation etc, example and data analysis.   \"))\n",
        "q7 = l1.append(get_valid_input(\"Teacher used modern and smart teaching aids, whenever relevant.   \"))\n",
        "q8 = l1.append(get_valid_input(\"Test, Assignment and quizzes were adequate.   \"))\n",
        "q9 = l1.append(get_valid_input(\"The teacher provides opportunities for participatory learning.   \"))\n",
        "q10 = l1.append(get_valid_input(\"Your level of satisfaction with the all round contribution of the teacher.   \"))\n",
        "l2.append(l1)"
      ],
      "metadata": {
        "colab": {
          "base_uri": "https://localhost:8080/"
        },
        "id": "hAzxj6PFncrg",
        "outputId": "9b8a4064-9fa7-486e-f17b-7c5a8fe55f2a"
      },
      "execution_count": 12,
      "outputs": [
        {
          "name": "stdout",
          "output_type": "stream",
          "text": [
            "Enter the rating scores for the faculty based on the following qustions, on a scale of 1 to 5\n",
            "Poor: 1 Fair: 2 Good: 3, Very Good: 4, Excellent: 5\n",
            "The faculty explained the objective of the course. Its relevance in regard to Industrial application, current development and research opportunities.   3\n",
            "The prerequisites, pertinence of the course with others and programme as a whole and the organization of the subject matter are explained.   2\n",
            "The teacher explained CO statements and its correlations with the PO's and PSO's.   2\n",
            "The teacher is enthusiastic and created interest in the subject.   4\n",
            "The teacher delivered the lecture lucidly.   4\n",
            "The teacher emphasized on numerical problem solving / mathematical formulation etc, example and data analysis.   4\n",
            "Teacher used modern and smart teaching aids, whenever relevant.   3\n",
            "Test, Assignment and quizzes were adequate.   5\n",
            "The teacher provides opportunities for participatory learning.   3\n",
            "Your level of satisfaction with the all round contribution of the teacher.   4\n"
          ]
        }
      ]
    },
    {
      "cell_type": "code",
      "source": [
        "# Encoding categorical data input into a dataframe\n",
        "dat_f = pd.DataFrame(l2, columns=['q1', 'q2', 'q3', 'q4', 'q5', 'q6', 'q7', 'q8', 'q9', 'q10'])"
      ],
      "metadata": {
        "id": "jn5rIpbEnmaK"
      },
      "execution_count": 13,
      "outputs": []
    },
    {
      "cell_type": "code",
      "source": [
        "# Converting the input dataframe to numpy array\n",
        "X1 = dat_f.to_numpy()"
      ],
      "metadata": {
        "id": "G6jmNCnM_NsG"
      },
      "execution_count": 14,
      "outputs": []
    },
    {
      "cell_type": "code",
      "source": [
        "# Predicting the label for input data\n",
        "y_pred1 = clf.predict(X1)"
      ],
      "metadata": {
        "id": "gD9lRQh9nnZa"
      },
      "execution_count": 15,
      "outputs": []
    },
    {
      "cell_type": "code",
      "source": [
        "# Printing the predicted label\n",
        "print(\"The predicted label is:\", y_pred1[0])"
      ],
      "metadata": {
        "colab": {
          "base_uri": "https://localhost:8080/"
        },
        "id": "QkoQFLEpnqhF",
        "outputId": "61473eec-2bbf-4fd1-dc0f-b7574225089b"
      },
      "execution_count": 16,
      "outputs": [
        {
          "output_type": "stream",
          "name": "stdout",
          "text": [
            "The predicted label is: 1\n"
          ]
        }
      ]
    },
    {
      "cell_type": "code",
      "source": [
        "# Splitting the second dataset into training and validation sets\n",
        "X1_train, X1_test, y1_train, y1_test = train_test_split(XX1, Y, test_size=0.2, random_state=42)"
      ],
      "metadata": {
        "id": "Nm1tcpnreXZG"
      },
      "execution_count": 17,
      "outputs": []
    },
    {
      "cell_type": "code",
      "source": [
        "# Fitting the SVM model to the training data of the second dataset only on the first two features\n",
        "clf.fit(X1_train[:,:2], y1_train)"
      ],
      "metadata": {
        "colab": {
          "base_uri": "https://localhost:8080/",
          "height": 74
        },
        "id": "D_yfJ0OJ08nV",
        "outputId": "1c444cdc-814d-4b8a-940c-0b94dd0a853b"
      },
      "execution_count": 18,
      "outputs": [
        {
          "output_type": "execute_result",
          "data": {
            "text/plain": [
              "SVC(C=100, kernel='linear')"
            ],
            "text/html": [
              "<style>#sk-container-id-1 {color: black;background-color: white;}#sk-container-id-1 pre{padding: 0;}#sk-container-id-1 div.sk-toggleable {background-color: white;}#sk-container-id-1 label.sk-toggleable__label {cursor: pointer;display: block;width: 100%;margin-bottom: 0;padding: 0.3em;box-sizing: border-box;text-align: center;}#sk-container-id-1 label.sk-toggleable__label-arrow:before {content: \"▸\";float: left;margin-right: 0.25em;color: #696969;}#sk-container-id-1 label.sk-toggleable__label-arrow:hover:before {color: black;}#sk-container-id-1 div.sk-estimator:hover label.sk-toggleable__label-arrow:before {color: black;}#sk-container-id-1 div.sk-toggleable__content {max-height: 0;max-width: 0;overflow: hidden;text-align: left;background-color: #f0f8ff;}#sk-container-id-1 div.sk-toggleable__content pre {margin: 0.2em;color: black;border-radius: 0.25em;background-color: #f0f8ff;}#sk-container-id-1 input.sk-toggleable__control:checked~div.sk-toggleable__content {max-height: 200px;max-width: 100%;overflow: auto;}#sk-container-id-1 input.sk-toggleable__control:checked~label.sk-toggleable__label-arrow:before {content: \"▾\";}#sk-container-id-1 div.sk-estimator input.sk-toggleable__control:checked~label.sk-toggleable__label {background-color: #d4ebff;}#sk-container-id-1 div.sk-label input.sk-toggleable__control:checked~label.sk-toggleable__label {background-color: #d4ebff;}#sk-container-id-1 input.sk-hidden--visually {border: 0;clip: rect(1px 1px 1px 1px);clip: rect(1px, 1px, 1px, 1px);height: 1px;margin: -1px;overflow: hidden;padding: 0;position: absolute;width: 1px;}#sk-container-id-1 div.sk-estimator {font-family: monospace;background-color: #f0f8ff;border: 1px dotted black;border-radius: 0.25em;box-sizing: border-box;margin-bottom: 0.5em;}#sk-container-id-1 div.sk-estimator:hover {background-color: #d4ebff;}#sk-container-id-1 div.sk-parallel-item::after {content: \"\";width: 100%;border-bottom: 1px solid gray;flex-grow: 1;}#sk-container-id-1 div.sk-label:hover label.sk-toggleable__label {background-color: #d4ebff;}#sk-container-id-1 div.sk-serial::before {content: \"\";position: absolute;border-left: 1px solid gray;box-sizing: border-box;top: 0;bottom: 0;left: 50%;z-index: 0;}#sk-container-id-1 div.sk-serial {display: flex;flex-direction: column;align-items: center;background-color: white;padding-right: 0.2em;padding-left: 0.2em;position: relative;}#sk-container-id-1 div.sk-item {position: relative;z-index: 1;}#sk-container-id-1 div.sk-parallel {display: flex;align-items: stretch;justify-content: center;background-color: white;position: relative;}#sk-container-id-1 div.sk-item::before, #sk-container-id-1 div.sk-parallel-item::before {content: \"\";position: absolute;border-left: 1px solid gray;box-sizing: border-box;top: 0;bottom: 0;left: 50%;z-index: -1;}#sk-container-id-1 div.sk-parallel-item {display: flex;flex-direction: column;z-index: 1;position: relative;background-color: white;}#sk-container-id-1 div.sk-parallel-item:first-child::after {align-self: flex-end;width: 50%;}#sk-container-id-1 div.sk-parallel-item:last-child::after {align-self: flex-start;width: 50%;}#sk-container-id-1 div.sk-parallel-item:only-child::after {width: 0;}#sk-container-id-1 div.sk-dashed-wrapped {border: 1px dashed gray;margin: 0 0.4em 0.5em 0.4em;box-sizing: border-box;padding-bottom: 0.4em;background-color: white;}#sk-container-id-1 div.sk-label label {font-family: monospace;font-weight: bold;display: inline-block;line-height: 1.2em;}#sk-container-id-1 div.sk-label-container {text-align: center;}#sk-container-id-1 div.sk-container {/* jupyter's `normalize.less` sets `[hidden] { display: none; }` but bootstrap.min.css set `[hidden] { display: none !important; }` so we also need the `!important` here to be able to override the default hidden behavior on the sphinx rendered scikit-learn.org. See: https://github.com/scikit-learn/scikit-learn/issues/21755 */display: inline-block !important;position: relative;}#sk-container-id-1 div.sk-text-repr-fallback {display: none;}</style><div id=\"sk-container-id-1\" class=\"sk-top-container\"><div class=\"sk-text-repr-fallback\"><pre>SVC(C=100, kernel=&#x27;linear&#x27;)</pre><b>In a Jupyter environment, please rerun this cell to show the HTML representation or trust the notebook. <br />On GitHub, the HTML representation is unable to render, please try loading this page with nbviewer.org.</b></div><div class=\"sk-container\" hidden><div class=\"sk-item\"><div class=\"sk-estimator sk-toggleable\"><input class=\"sk-toggleable__control sk-hidden--visually\" id=\"sk-estimator-id-1\" type=\"checkbox\" checked><label for=\"sk-estimator-id-1\" class=\"sk-toggleable__label sk-toggleable__label-arrow\">SVC</label><div class=\"sk-toggleable__content\"><pre>SVC(C=100, kernel=&#x27;linear&#x27;)</pre></div></div></div></div></div>"
            ]
          },
          "metadata": {},
          "execution_count": 18
        }
      ]
    },
    {
      "cell_type": "code",
      "source": [
        "# Defining the maximum and minimum values of the first two features\n",
        "x_min, x_max = X1_train[:, 0]. min() - 1, X1_train[:, 0].max() + 1\n",
        "y_min, y_max = X1_train[:, 0]. min() - 1, X1_train[:, 1].max() + 1\n",
        "\n",
        "# Creating a meshgrid spanning the range of training data\n",
        "xx, yy = np.meshgrid(np.arange(x_min, x_max, .02),\n",
        "                     np.arange(y_min, y_max, .02))"
      ],
      "metadata": {
        "id": "abd9rH9TvEvR"
      },
      "execution_count": 19,
      "outputs": []
    },
    {
      "cell_type": "code",
      "source": [
        "# Predicting the label for each point in the meshgrid\n",
        "Z = clf.predict(np.c_[xx.ravel(), yy.ravel()])\n",
        "Z = Z.reshape(xx.shape)\n",
        "\n",
        "# Plotting decision boundary as a contour plot\n",
        "plt.contourf(xx, yy, Z, cmap=plt.cm.coolwarm, alpha=0.8)\n",
        "\n",
        "# Plotting the training data as scatter points\n",
        "scat=plt.scatter(X1_train[:, 0], X1_train[:, 1], c=y1_train)\n",
        "legend1=plt.legend(*scat.legend_elements(),\n",
        "                   loc=\"upper right\", title=\"Classification\")\n",
        "\n",
        "plt.xlabel('Feature1')\n",
        "plt.ylabel('Feature2')\n",
        "plt.xlim(xx.min(), xx.max())\n",
        "plt.ylim(yy.min(), yy.max())\n",
        "\n",
        "# Displaying the plot\n",
        "plt.show()"
      ],
      "metadata": {
        "colab": {
          "base_uri": "https://localhost:8080/",
          "height": 449
        },
        "id": "zHP9qOjJxV8T",
        "outputId": "84899cfe-2d68-4f80-a73a-9ae004f2a08c"
      },
      "execution_count": 20,
      "outputs": [
        {
          "output_type": "display_data",
          "data": {
            "text/plain": [
              "<Figure size 640x480 with 1 Axes>"
            ],
            "image/png": "[encoded data removed]"
          },
          "metadata": {}
        }
      ]
    },
    {
      "cell_type": "code",
      "source": [
        "# Predicting the output for the second dataset for the validation set\n",
        "y1_pred = clf.predict(X1_test[:, :2])"
      ],
      "metadata": {
        "id": "GS7ze3xdeGND"
      },
      "execution_count": 21,
      "outputs": []
    },
    {
      "cell_type": "code",
      "source": [
        "# Calculating the accuracy for the above prediction\n",
        "accuracy1 = accuracy_score(y1_test, y1_pred)\n",
        "print(\"Accuracy:\", accuracy1)"
      ],
      "metadata": {
        "id": "0RJ5BjetfADM",
        "colab": {
          "base_uri": "https://localhost:8080/"
        },
        "outputId": "63913835-5519-4c44-d339-9959c7c6a5f7"
      },
      "execution_count": 22,
      "outputs": [
        {
          "output_type": "stream",
          "name": "stdout",
          "text": [
            "Accuracy: 1.0\n"
          ]
        }
      ]
    },
    {
      "cell_type": "code",
      "source": [
        "# Fitting the SVM model to the entire second dataset only on the first two features\n",
        "clf.fit(XX1[:,:2], Y)"
      ],
      "metadata": {
        "colab": {
          "base_uri": "https://localhost:8080/",
          "height": 74
        },
        "id": "5Hd1j_jWhJ5d",
        "outputId": "edbbc3c6-6270-46c9-c09a-1e4d98108e07"
      },
      "execution_count": 23,
      "outputs": [
        {
          "output_type": "execute_result",
          "data": {
            "text/plain": [
              "SVC(C=100, kernel='linear')"
            ],
            "text/html": [
              "<style>#sk-container-id-2 {color: black;background-color: white;}#sk-container-id-2 pre{padding: 0;}#sk-container-id-2 div.sk-toggleable {background-color: white;}#sk-container-id-2 label.sk-toggleable__label {cursor: pointer;display: block;width: 100%;margin-bottom: 0;padding: 0.3em;box-sizing: border-box;text-align: center;}#sk-container-id-2 label.sk-toggleable__label-arrow:before {content: \"▸\";float: left;margin-right: 0.25em;color: #696969;}#sk-container-id-2 label.sk-toggleable__label-arrow:hover:before {color: black;}#sk-container-id-2 div.sk-estimator:hover label.sk-toggleable__label-arrow:before {color: black;}#sk-container-id-2 div.sk-toggleable__content {max-height: 0;max-width: 0;overflow: hidden;text-align: left;background-color: #f0f8ff;}#sk-container-id-2 div.sk-toggleable__content pre {margin: 0.2em;color: black;border-radius: 0.25em;background-color: #f0f8ff;}#sk-container-id-2 input.sk-toggleable__control:checked~div.sk-toggleable__content {max-height: 200px;max-width: 100%;overflow: auto;}#sk-container-id-2 input.sk-toggleable__control:checked~label.sk-toggleable__label-arrow:before {content: \"▾\";}#sk-container-id-2 div.sk-estimator input.sk-toggleable__control:checked~label.sk-toggleable__label {background-color: #d4ebff;}#sk-container-id-2 div.sk-label input.sk-toggleable__control:checked~label.sk-toggleable__label {background-color: #d4ebff;}#sk-container-id-2 input.sk-hidden--visually {border: 0;clip: rect(1px 1px 1px 1px);clip: rect(1px, 1px, 1px, 1px);height: 1px;margin: -1px;overflow: hidden;padding: 0;position: absolute;width: 1px;}#sk-container-id-2 div.sk-estimator {font-family: monospace;background-color: #f0f8ff;border: 1px dotted black;border-radius: 0.25em;box-sizing: border-box;margin-bottom: 0.5em;}#sk-container-id-2 div.sk-estimator:hover {background-color: #d4ebff;}#sk-container-id-2 div.sk-parallel-item::after {content: \"\";width: 100%;border-bottom: 1px solid gray;flex-grow: 1;}#sk-container-id-2 div.sk-label:hover label.sk-toggleable__label {background-color: #d4ebff;}#sk-container-id-2 div.sk-serial::before {content: \"\";position: absolute;border-left: 1px solid gray;box-sizing: border-box;top: 0;bottom: 0;left: 50%;z-index: 0;}#sk-container-id-2 div.sk-serial {display: flex;flex-direction: column;align-items: center;background-color: white;padding-right: 0.2em;padding-left: 0.2em;position: relative;}#sk-container-id-2 div.sk-item {position: relative;z-index: 1;}#sk-container-id-2 div.sk-parallel {display: flex;align-items: stretch;justify-content: center;background-color: white;position: relative;}#sk-container-id-2 div.sk-item::before, #sk-container-id-2 div.sk-parallel-item::before {content: \"\";position: absolute;border-left: 1px solid gray;box-sizing: border-box;top: 0;bottom: 0;left: 50%;z-index: -1;}#sk-container-id-2 div.sk-parallel-item {display: flex;flex-direction: column;z-index: 1;position: relative;background-color: white;}#sk-container-id-2 div.sk-parallel-item:first-child::after {align-self: flex-end;width: 50%;}#sk-container-id-2 div.sk-parallel-item:last-child::after {align-self: flex-start;width: 50%;}#sk-container-id-2 div.sk-parallel-item:only-child::after {width: 0;}#sk-container-id-2 div.sk-dashed-wrapped {border: 1px dashed gray;margin: 0 0.4em 0.5em 0.4em;box-sizing: border-box;padding-bottom: 0.4em;background-color: white;}#sk-container-id-2 div.sk-label label {font-family: monospace;font-weight: bold;display: inline-block;line-height: 1.2em;}#sk-container-id-2 div.sk-label-container {text-align: center;}#sk-container-id-2 div.sk-container {/* jupyter's `normalize.less` sets `[hidden] { display: none; }` but bootstrap.min.css set `[hidden] { display: none !important; }` so we also need the `!important` here to be able to override the default hidden behavior on the sphinx rendered scikit-learn.org. See: https://github.com/scikit-learn/scikit-learn/issues/21755 */display: inline-block !important;position: relative;}#sk-container-id-2 div.sk-text-repr-fallback {display: none;}</style><div id=\"sk-container-id-2\" class=\"sk-top-container\"><div class=\"sk-text-repr-fallback\"><pre>SVC(C=100, kernel=&#x27;linear&#x27;)</pre><b>In a Jupyter environment, please rerun this cell to show the HTML representation or trust the notebook. <br />On GitHub, the HTML representation is unable to render, please try loading this page with nbviewer.org.</b></div><div class=\"sk-container\" hidden><div class=\"sk-item\"><div class=\"sk-estimator sk-toggleable\"><input class=\"sk-toggleable__control sk-hidden--visually\" id=\"sk-estimator-id-2\" type=\"checkbox\" checked><label for=\"sk-estimator-id-2\" class=\"sk-toggleable__label sk-toggleable__label-arrow\">SVC</label><div class=\"sk-toggleable__content\"><pre>SVC(C=100, kernel=&#x27;linear&#x27;)</pre></div></div></div></div></div>"
            ]
          },
          "metadata": {},
          "execution_count": 23
        }
      ]
    },
    {
      "cell_type": "code",
      "source": [
        "# Defining the maximum and minimum values of the first two features\n",
        "x1_min, x1_max = XX1[:, 0]. min() - 1, XX1[:, 0].max() + 1\n",
        "y1_min, y1_max = XX1[:, 0]. min() - 1, XX1[:, 1].max() + 1\n",
        "\n",
        "# Creating a meshgrid spanning the range of training data\n",
        "xx, yy = np.meshgrid(np.arange(x_min, x_max, .02),\n",
        "                     np.arange(y_min, y_max, .02))"
      ],
      "metadata": {
        "id": "3aoydptV098d"
      },
      "execution_count": 24,
      "outputs": []
    },
    {
      "cell_type": "code",
      "source": [
        "# Predicting the label for each point in the meshgrid\n",
        "Z = clf.predict(np.c_[xx.ravel(), yy.ravel()])\n",
        "Z = Z.reshape(xx.shape)\n",
        "\n",
        "# Plotting decision boundary as a contour plot\n",
        "plt.contourf(xx, yy, Z, cmap=plt.cm.coolwarm, alpha=0.8)\n",
        "\n",
        "# Plotting the training data as scatter points\n",
        "scat=plt.scatter(XX1[:, 0], XX1[:, 1], c=Y)\n",
        "legend1=plt.legend(*scat.legend_elements(),\n",
        "                   loc=\"upper right\", title=\"Classification\")\n",
        "\n",
        "plt.xlabel('Feature1')\n",
        "plt.ylabel('Feature2')\n",
        "plt.xlim(xx.min(), xx.max())\n",
        "plt.ylim(yy.min(), yy.max())\n",
        "\n",
        "# Displaying the plot\n",
        "plt.show()"
      ],
      "metadata": {
        "colab": {
          "base_uri": "https://localhost:8080/",
          "height": 449
        },
        "id": "T5iansE-hDb4",
        "outputId": "d2caa3d0-a0c3-448f-fce2-0c40151c231e"
      },
      "execution_count": 25,
      "outputs": [
        {
          "output_type": "display_data",
          "data": {
            "text/plain": [
              "<Figure size 640x480 with 1 Axes>"
            ],
            "image/png": "[encoded data removed]"
          },
          "metadata": {}
        }
      ]
    }
  ]
}